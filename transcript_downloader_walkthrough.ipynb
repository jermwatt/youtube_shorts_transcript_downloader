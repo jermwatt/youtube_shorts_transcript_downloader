{
 "cells": [
  {
   "cell_type": "markdown",
   "metadata": {},
   "source": [
    "<a href=\"https://colab.research.google.com/github/jermwatt/youtube_transcript_downloader/blob/main/transcript_downloader_walkthrough.ipynb\" target=\"_parent\"><img src=\"https://colab.research.google.com/assets/colab-badge.svg\" alt=\"Open In Colab\"/></a>"
   ]
  },
  {
   "cell_type": "code",
   "execution_count": 2,
   "metadata": {},
   "outputs": [],
   "source": [
    "import os\n",
    "# if running in collab pull repo and install requirements\n",
    "if os.getenv(\"COLAB_RELEASE_TAG\"):\n",
    "    !git clone https://github.com/jermwatt/youtube_transcript_downloader.git\n",
    "    %cd youtube_transcript_downloader\n",
    "    !pip install -r requirements.txt"
   ]
  },
  {
   "cell_type": "markdown",
   "metadata": {},
   "source": [
    "# Youtube transcript downloader"
   ]
  },
  {
   "cell_type": "markdown",
   "metadata": {},
   "source": [
    "The problem:\n",
    "- this expert youtuber [has downloaded THOUSANDS of youtube shorts transcripts BY HAND](https://youtu.be/As7abwNhG7Y?si=dSzEf6Hk0glROYhu&t=340) to analyze them\n",
    "- each time required adjusting the shorts url to a standard format (where transcripts live), clicking around buttons to show the transcript, and then copying and pasting that text somewhere\n",
    "- lets say 15 secs per video to do all this - for 1000 videos that's 15000 secs / 250 mins / over 4 hours minimum\n",
    "- let's help anyone else in the future who wants to do this save a bunch of time\n",
    "\n",
    "\n",
    "Let's build:\n",
    "- a simple app you can run locally or via a free service that lets you\n",
    "- upload a .txt file with youtube shorts urls, transform the url to the standard youtube viewer, and extracts their transcripts\n",
    "- once complete lets you download a .csv or .xlsx file with the transcripts nicely organized by url / video id\n",
    "\n",
    "\n",
    "Tool's we'll need:\n",
    "- [youtube_transcript_api](https://github.com/jdepoix/youtube-transcript-api) - a simple python api using the requests library and the YouTube web-client\n",
    "- [streamlit](https://github.com/streamlit/streamlit) for the app framework (components, web UI, etc.,)\n",
    "- custom code to organize data, batch process, create and organize output, etc.,"
   ]
  },
  {
   "cell_type": "markdown",
   "metadata": {},
   "source": [
    "## 1.  Pulling youtube shorts transcripts"
   ]
  },
  {
   "cell_type": "markdown",
   "metadata": {},
   "source": [
    "- we'll create simple wrappers on [youtube_transcript_api](https://github.com/jdepoix/youtube-transcript-api) to pull transcripts \n",
    "- built in batch mode &#x1f929; - so we can pull multiple video transcripts at once"
   ]
  },
  {
   "cell_type": "markdown",
   "metadata": {},
   "source": [
    "- simple functionality below \n",
    "    - `is_valid_youtube_shorts_url` type checks input youtube shorts urls to ensure they are formatted correctly\n",
    "    - `get_single_transcript` pulls the transcript of a single video\n",
    "    - `get_batch_transcripts` pulls transcripts of multiple input videos\n",
    "\n",
    "note: we won't have to transform the shorts url as described in the motivating video - all we need are the video ids to gather the transcripts"
   ]
  },
  {
   "cell_type": "code",
   "execution_count": 29,
   "metadata": {},
   "outputs": [],
   "source": [
    "import re\n",
    "from typing import List, Dict\n",
    "from youtube_transcript_api import YouTubeTranscriptApi\n",
    "\n",
    "def is_valid_youtube_shorts_url(potential_url: str) -> bool:\n",
    "    pattern = r'^https://www\\.youtube\\.com/shorts/[A-Za-z0-9_-]{11}$'  # youtube vido ids are always 11 chars long\n",
    "    return re.match(pattern, potential_url) is not None\n",
    "    \n",
    "def get_single_transcript(youtube_url: str) -> dict:\n",
    "    try:\n",
    "        if is_valid_youtube_shorts_url(youtube_url):\n",
    "            video_id = youtube_url.split(\"/\")[-1]\n",
    "            video_transcript = YouTubeTranscriptApi.get_transcript(video_id)\n",
    "            entry = {}\n",
    "            entry[\"youtube_url\"] = youtube_url\n",
    "            entry[\"video_id\"] = video_id\n",
    "            entry[\"transcript\"] = video_transcript\n",
    "            return entry\n",
    "        else:\n",
    "            print(f\"FAILURE: youtube_url is not valid - {youtube_url}\")\n",
    "            return {}\n",
    "    except Exception as e:\n",
    "        print(f\"FAILURE: transcript pull for youtube_url - {youtube_url} - failed with exception {e}\")\n",
    "        return {}\n",
    "\n",
    "def get_batch_transcripts(youtube_urls: List[str]) -> List[Dict]:\n",
    "    valid_urls = []\n",
    "    valid_vids = []\n",
    "    for i, url in enumerate(youtube_urls):\n",
    "        if is_valid_youtube_shorts_url(url):\n",
    "            vid = url.split(\"/\")[-1]\n",
    "            valid_urls.append(url)\n",
    "            valid_vids.append(vid)\n",
    "    try:\n",
    "        video_transcripts = YouTubeTranscriptApi.get_transcripts(valid_vids, languages=[\"en\"])[0]\n",
    "        entries = []\n",
    "        for i in range(len(valid_urls)):\n",
    "            entry = {}\n",
    "            entry[\"youtube_url\"] = valid_urls[i]\n",
    "            entry[\"video_id\"] = valid_vids[i]\n",
    "            entry[\"transcript\"] = video_transcripts[valid_vids[i]]\n",
    "            entries.append(entry)\n",
    "        return entries\n",
    "    except Exception as e:\n",
    "        print(f\"FAILURE: batch transcription fetch failed with exception {e}\")\n",
    "        return []"
   ]
  },
  {
   "cell_type": "code",
   "execution_count": 15,
   "metadata": {},
   "outputs": [],
   "source": [
    "# test transcript pull functionality with two test videos\n",
    "youtube_url_1 = \"https://www.youtube.com/shorts/xaRRZKgj5aQ\"\n",
    "single_transcript = get_single_transcript(youtube_url_1)"
   ]
  },
  {
   "cell_type": "markdown",
   "metadata": {},
   "source": [
    "- test our functionality with two videos"
   ]
  },
  {
   "cell_type": "code",
   "execution_count": 16,
   "metadata": {},
   "outputs": [],
   "source": [
    "# test transcript pull functionality with two test videos\n",
    "youtube_url_1 = \"https://www.youtube.com/shorts/xaRRZKgj5aQ\"\n",
    "youtube_url_2 = \"https://www.youtube.com/shorts/xK9_V9LF4PE\"\n",
    "youtube_urls = [youtube_url_1, youtube_url_2]\n",
    "single_transcript = get_single_transcript(youtube_url_1)\n",
    "batch_transcripts = get_batch_transcripts(youtube_urls)"
   ]
  },
  {
   "cell_type": "code",
   "execution_count": 34,
   "metadata": {},
   "outputs": [
    {
     "name": "stdout",
     "output_type": "stream",
     "text": [
      "{'youtube_url': 'https://www.youtube.com/shorts/xaRRZKgj5aQ', 'video_id': 'xaRRZKgj5aQ', 'transcript': [{'text': 'what happens if you pull a shot of', 'start': 0.08, 'duration': 2.839}, {'text': 'espresso through an orange I thought', 'start': 1.24, 'duration': 3.119}, {'text': 'this could potentially taste pretty good', 'start': 2.919, 'duration': 2.801}, {'text': \"so let's try it out and see if \n"
     ]
    }
   ],
   "source": [
    "# print the first few hundred characters of return object\n",
    "print(str(single_transcript)[:400])"
   ]
  },
  {
   "cell_type": "markdown",
   "metadata": {},
   "source": [
    "## 2.  Input and output"
   ]
  },
  {
   "cell_type": "markdown",
   "metadata": {},
   "source": [
    "- lets design and build two helper functions for I/O\n",
    "- input will be a text file with one youtube url per line - `parse_input_file` implements this\n",
    "- output will be a csv file - `save_output` implements this"
   ]
  },
  {
   "cell_type": "code",
   "execution_count": 35,
   "metadata": {},
   "outputs": [],
   "source": [
    "import pandas as pd\n",
    "\n",
    "\n",
    "def parse_input_file(input_file_path: str) -> list:\n",
    "    youtube_urls = []\n",
    "    with open(input_file_path, 'r') as file:\n",
    "        for line in file:\n",
    "            youtube_urls.append(line.strip())\n",
    "    return youtube_urls\n",
    "\n",
    "\n",
    "def save_output(data: list,\n",
    "                output_file_path: str) -> None:\n",
    "    df = pd.DataFrame(data)\n",
    "    df.to_csv(output_file_path, index=False)"
   ]
  },
  {
   "cell_type": "code",
   "execution_count": 36,
   "metadata": {},
   "outputs": [],
   "source": [
    "# test functionality\n",
    "input_file_path = \"data/input/test_input.txt\"\n",
    "output_file_path = \"data/output/test_output.csv\"\n",
    "youtube_urls = parse_input_file(input_file_path)\n",
    "batch_transcripts = get_batch_transcripts(youtube_urls)\n",
    "save_output(batch_transcripts, output_file_path)"
   ]
  },
  {
   "cell_type": "code",
   "execution_count": 37,
   "metadata": {},
   "outputs": [
    {
     "data": {
      "text/html": [
       "<div>\n",
       "<style scoped>\n",
       "    .dataframe tbody tr th:only-of-type {\n",
       "        vertical-align: middle;\n",
       "    }\n",
       "\n",
       "    .dataframe tbody tr th {\n",
       "        vertical-align: top;\n",
       "    }\n",
       "\n",
       "    .dataframe thead th {\n",
       "        text-align: right;\n",
       "    }\n",
       "</style>\n",
       "<table border=\"1\" class=\"dataframe\">\n",
       "  <thead>\n",
       "    <tr style=\"text-align: right;\">\n",
       "      <th></th>\n",
       "      <th>youtube_url</th>\n",
       "      <th>video_id</th>\n",
       "      <th>transcript</th>\n",
       "    </tr>\n",
       "  </thead>\n",
       "  <tbody>\n",
       "    <tr>\n",
       "      <th>0</th>\n",
       "      <td>https://www.youtube.com/shorts/xaRRZKgj5aQ</td>\n",
       "      <td>xaRRZKgj5aQ</td>\n",
       "      <td>[{'text': 'what happens if you pull a shot of'...</td>\n",
       "    </tr>\n",
       "    <tr>\n",
       "      <th>1</th>\n",
       "      <td>https://www.youtube.com/shorts/xK9_V9LF4PE</td>\n",
       "      <td>xK9_V9LF4PE</td>\n",
       "      <td>[{'text': 'here are snacks I packed for my fli...</td>\n",
       "    </tr>\n",
       "  </tbody>\n",
       "</table>\n",
       "</div>"
      ],
      "text/plain": [
       "                                  youtube_url     video_id  \\\n",
       "0  https://www.youtube.com/shorts/xaRRZKgj5aQ  xaRRZKgj5aQ   \n",
       "1  https://www.youtube.com/shorts/xK9_V9LF4PE  xK9_V9LF4PE   \n",
       "\n",
       "                                          transcript  \n",
       "0  [{'text': 'what happens if you pull a shot of'...  \n",
       "1  [{'text': 'here are snacks I packed for my fli...  "
      ]
     },
     "execution_count": 37,
     "metadata": {},
     "output_type": "execute_result"
    }
   ],
   "source": [
    "pd.read_csv(output_file_path).head(2)"
   ]
  }
 ],
 "metadata": {
  "kernelspec": {
   "display_name": "venv",
   "language": "python",
   "name": "python3"
  },
  "language_info": {
   "codemirror_mode": {
    "name": "ipython",
    "version": 3
   },
   "file_extension": ".py",
   "mimetype": "text/x-python",
   "name": "python",
   "nbconvert_exporter": "python",
   "pygments_lexer": "ipython3",
   "version": "3.10.13"
  }
 },
 "nbformat": 4,
 "nbformat_minor": 2
}
